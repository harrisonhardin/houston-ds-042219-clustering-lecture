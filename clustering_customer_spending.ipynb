{
 "cells": [
  {
   "cell_type": "code",
   "execution_count": null,
   "metadata": {},
   "outputs": [],
   "source": [
    "import matplotlib.pyplot as plt\n",
    "import seaborn as sns\n",
    "import pandas as pd\n",
    "%matplotlib inline\n",
    "import numpy as np\n",
    "import scipy as sp\n",
    "import scipy.cluster.hierarchy as sch\n",
    "from sklearn.cluster import AgglomerativeClustering as AC\n"
   ]
  },
  {
   "cell_type": "code",
   "execution_count": null,
   "metadata": {},
   "outputs": [],
   "source": [
    "#load in data\n",
    "customer_data = pd.read_csv('customer_data.csv')"
   ]
  },
  {
   "cell_type": "code",
   "execution_count": null,
   "metadata": {
    "scrolled": true
   },
   "outputs": [],
   "source": [
    "customer_data.shape #check the dimensions"
   ]
  },
  {
   "cell_type": "code",
   "execution_count": null,
   "metadata": {},
   "outputs": [],
   "source": [
    "customer_data.head() #let's peek at our data frame"
   ]
  },
  {
   "cell_type": "code",
   "execution_count": null,
   "metadata": {},
   "outputs": [],
   "source": [
    "data = customer_data.iloc[:,3:5].values #removes first 3 columns leaving only annual income and spending score\n",
    "\n",
    "plt.scatter(data[:,0],data[:,1]) #let's look at our data\n",
    "plt.title('Customer spending habits based on household income')\n",
    "plt.xlabel('Household income')\n",
    "plt.ylabel('Spending score')"
   ]
  },
  {
   "cell_type": "markdown",
   "metadata": {},
   "source": [
    "### The plot shows some clear grouping"
   ]
  },
  {
   "cell_type": "code",
   "execution_count": null,
   "metadata": {},
   "outputs": [],
   "source": [
    "plt.figure(figsize=(10,7))\n",
    "plt.title(\"Customer Dendrograms\")\n",
    "dend = sch.dendrogram(sch.linkage(data,method='complete')) #try with different linkage methods"
   ]
  },
  {
   "cell_type": "markdown",
   "metadata": {},
   "source": [
    "#### Also, take a moment to examine your dendrogram for distinct clusters at different \"heights\""
   ]
  },
  {
   "cell_type": "code",
   "execution_count": null,
   "metadata": {},
   "outputs": [],
   "source": [
    "cluster = AC(n_clusters=5,affinity='euclidean',linkage='complete')\n",
    "cluster.fit_predict(data) #tells us what clusters our data lives in out of the 5"
   ]
  },
  {
   "cell_type": "code",
   "execution_count": null,
   "metadata": {},
   "outputs": [],
   "source": [
    "plt.figure(figsize=(10,7))\n",
    "plt.scatter(data[:,0],data[:,1],c=cluster.labels_,cmap='rainbow')\n",
    "plt.xlabel('Household income')\n",
    "plt.ylabel('Spending score')\n",
    "plt.title('Customer spending habits based on household income')\n",
    "#what inferences might we make from these clusters?"
   ]
  },
  {
   "cell_type": "markdown",
   "metadata": {},
   "source": [
    "## Let's look at the same problem utilizing K-means clustering\n"
   ]
  },
  {
   "cell_type": "code",
   "execution_count": null,
   "metadata": {},
   "outputs": [],
   "source": [
    "#import Kmeans tool from sklearn\n",
    "from sklearn.cluster import KMeans"
   ]
  },
  {
   "cell_type": "markdown",
   "metadata": {},
   "source": [
    "Let's plot an elbow test!\n",
    "\n",
    "Typically, as a good rule of thumb this will show you a reasonable number of clusters to use.\n",
    "We will pick the number where the line begins to flatten."
   ]
  },
  {
   "cell_type": "code",
   "execution_count": null,
   "metadata": {},
   "outputs": [],
   "source": [
    "nk = range(1,20) #generate list from 1 to 10 as number of clusters for elbow test"
   ]
  },
  {
   "cell_type": "code",
   "execution_count": null,
   "metadata": {},
   "outputs": [],
   "source": [
    "kmeans=[KMeans(n_clusters=i) for i in nk] #set up array of the K-means algorithm to test data over each number of clusters"
   ]
  },
  {
   "cell_type": "code",
   "execution_count": null,
   "metadata": {},
   "outputs": [],
   "source": [
    "score = [kmeans[i].fit(data).score(data) for i in range(len(kmeans))] #Create array of scores for data for k-means algos"
   ]
  },
  {
   "cell_type": "code",
   "execution_count": null,
   "metadata": {},
   "outputs": [],
   "source": [
    "#plot your elbow test!\n",
    "plt.figure(figsize=(10,7))\n",
    "plt.plot(nk,score)\n",
    "plt.xlabel('Number of clusters')\n",
    "plt.ylabel('Score')"
   ]
  },
  {
   "cell_type": "code",
   "execution_count": null,
   "metadata": {},
   "outputs": [],
   "source": [
    "kmeans=KMeans(n_clusters=5)\n",
    "kmeans_out=kmeans.fit(data)\n",
    "kmeans_out"
   ]
  },
  {
   "cell_type": "code",
   "execution_count": null,
   "metadata": {},
   "outputs": [],
   "source": [
    "plt.figure(figsize=(10,7))\n",
    "plt.scatter(data[:,0],data[:,1],c=kmeans_out.labels_,cmap='rainbow')\n",
    "plt.title('Customer spending habits based on household income')\n",
    "plt.xlabel('Household income')\n",
    "plt.ylabel('Spending score')"
   ]
  },
  {
   "cell_type": "markdown",
   "metadata": {},
   "source": [
    "## Dimensionality reduction with PCA\n",
    "\n",
    "We just got a little more data on our customers! \n",
    "\n",
    "However, we now have several variables to work with.\n",
    "\n",
    "You know that there are very good tools for dimensionality reduction, and you are going to implement PCA\n",
    "on this data to make sure you are examining the most relevant variables of your data.\n",
    "\n",
    "\n",
    "\n"
   ]
  },
  {
   "cell_type": "code",
   "execution_count": null,
   "metadata": {},
   "outputs": [],
   "source": [
    "#load in the extended customer data\n",
    "customer_data = pd.read_csv('customer_data_extended.csv')"
   ]
  },
  {
   "cell_type": "code",
   "execution_count": null,
   "metadata": {},
   "outputs": [],
   "source": [
    "#let's get the dimensions\n",
    "customer_data.shape"
   ]
  },
  {
   "cell_type": "code",
   "execution_count": null,
   "metadata": {},
   "outputs": [],
   "source": [
    "#Let's take a look at the fields we have in our data frame.\n",
    "customer_data.head()"
   ]
  },
  {
   "cell_type": "code",
   "execution_count": null,
   "metadata": {},
   "outputs": [],
   "source": [
    "#We now have Gender, Age, Annual Income, Spending Score, and Number of items bought for each customer\n",
    "#Let's run PCA to find out which variables are responsible for most of the variance in our dataset!\n",
    "\n",
    "#import necessary tools\n",
    "from mpl_toolkits.mplot3d import Axes3D #for plotting 3D graphs\n",
    "\n",
    "from sklearn.preprocessing import StandardScaler\n",
    "from sklearn import decomposition #for PCA tool\n",
    "from sklearn import datasets \n",
    "\n",
    "\n",
    "\n",
    "data=customer_data.iloc[:,3:6].values #removes first 3 columns \n",
    "data.shape\n",
    "\n",
    "X = StandardScaler().fit_transform(data)\n",
    "X"
   ]
  },
  {
   "cell_type": "code",
   "execution_count": null,
   "metadata": {},
   "outputs": [],
   "source": [
    "pca=decomposition.PCA() #set pca to be your PCA function\n",
    "pc=pca.fit_transform(X) #apply pca to your data\n",
    "pc.shape #sanity check for your life (What are the expected dimensions?)"
   ]
  },
  {
   "cell_type": "code",
   "execution_count": null,
   "metadata": {},
   "outputs": [],
   "source": [
    "#covariance\n",
    "pca.get_covariance() #What dimensions should this matrix have? Why?"
   ]
  },
  {
   "cell_type": "code",
   "execution_count": null,
   "metadata": {},
   "outputs": [],
   "source": [
    "explained_var=pca.explained_variance_ratio_ #gives the percentage of variance from each component\n",
    "explained_var #how many items should be in this array?"
   ]
  },
  {
   "cell_type": "code",
   "execution_count": null,
   "metadata": {},
   "outputs": [],
   "source": [
    "#Let's plot our explained variances to compare them\n",
    "plt.figure(figsize=(10,7))\n",
    "plt.bar(range(3),explained_var)\n",
    "plt.ylabel('Explained variance ratio')\n",
    "plt.xlabel('Principal components')\n",
    "plt.title('Explained variance ratio of principal components')"
   ]
  },
  {
   "cell_type": "code",
   "execution_count": null,
   "metadata": {},
   "outputs": [],
   "source": [
    "#Which components should we keep, and which should we throwaway?"
   ]
  },
  {
   "cell_type": "code",
   "execution_count": null,
   "metadata": {},
   "outputs": [],
   "source": [
    "plt.figure(figsize=(10,7))\n",
    "plt.scatter(data[:,0],data[:,1])\n",
    "plt.title('Costumer spending habits based on household income')\n",
    "plt.ylabel('Spending score')\n",
    "plt.xlabel('Household income')"
   ]
  },
  {
   "cell_type": "code",
   "execution_count": null,
   "metadata": {},
   "outputs": [],
   "source": [
    "plt.figure(figsize=(10,7))\n",
    "plt.title('PCA of customer spending habits')\n",
    "plt.scatter(pc[:,0],pc[:,1])\n",
    "plt.ylabel('PC2')\n",
    "plt.xlabel('PC1')"
   ]
  },
  {
   "cell_type": "code",
   "execution_count": null,
   "metadata": {
    "scrolled": true
   },
   "outputs": [],
   "source": [
    "#Just for the sake of comparison, let's plot the 3d data\n",
    "fig = plt.figure(figsize=(10,7))\n",
    "ax = plt.axes(projection='3d')\n",
    "ax.scatter(data[:,0],data[:,1],data[:,2])\n",
    "ax.set_xlabel('Household income')\n",
    "ax.set_ylabel('Spending score')\n",
    "ax.set_zlabel('Number of items bought')\n",
    "ax.set_title('Consumer spending habits')"
   ]
  },
  {
   "cell_type": "code",
   "execution_count": null,
   "metadata": {},
   "outputs": [],
   "source": [
    "#Just for the sake of comparison, let's plot the 3d data\n",
    "fig = plt.figure(figsize=(10,7))\n",
    "ax = plt.axes(projection='3d')\n",
    "ax.scatter(pc[:,0],pc[:,1],pc[:,2])\n",
    "ax.set_xlabel('PC1')\n",
    "ax.set_ylabel('PC2')\n",
    "ax.set_zlabel('PC3')\n",
    "ax.set_title('PCA for Consumer spending habits')"
   ]
  }
 ],
 "metadata": {
  "kernelspec": {
   "display_name": "Python 3",
   "language": "python",
   "name": "python3"
  },
  "language_info": {
   "codemirror_mode": {
    "name": "ipython",
    "version": 3
   },
   "file_extension": ".py",
   "mimetype": "text/x-python",
   "name": "python",
   "nbconvert_exporter": "python",
   "pygments_lexer": "ipython3",
   "version": "3.7.1"
  }
 },
 "nbformat": 4,
 "nbformat_minor": 2
}
