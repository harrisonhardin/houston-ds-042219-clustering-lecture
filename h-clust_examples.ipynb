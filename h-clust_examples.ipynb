{
 "cells": [
  {
   "cell_type": "code",
   "execution_count": null,
   "metadata": {},
   "outputs": [],
   "source": [
    "#import tools\n",
    "import matplotlib.pyplot as plt\n",
    "from sklearn import datasets\n",
    "import pandas as pd\n",
    "import numpy as np\n",
    "import scipy as sp\n",
    "%matplotlib inline\n",
    "\n",
    "#Toy data sets\n",
    "\n",
    "#neat spherical clusters\n",
    "centers_neat = [(-10, 10), (0, -5), (10, 5)]\n",
    "x_neat, _ = datasets.make_blobs(n_samples=2000,\n",
    "                                centers=centers_neat,\n",
    "                                cluster_std=2,\n",
    "                                random_state=2)\n",
    "\n",
    "#messy spherical clusters\n",
    "x_messy, _ = datasets.make_classification(n_samples=2000,\n",
    "                                          n_features=10,\n",
    "                                          n_classes=3,\n",
    "                                          n_clusters_per_class=1,\n",
    "                                          class_sep=1.5,\n",
    "                                          shuffle=False,\n",
    "                                          random_state=301)\n",
    "\n",
    "\n",
    "plt.figure(figsize=(17,8))\n",
    "plt.subplot(121, title='Neat Clusters')\n",
    "plt.scatter(x_neat[:,0], x_neat[:,1])\n",
    "plt.subplot(122, title='Messy Clusters')\n",
    "plt.scatter(x_messy[:,0], x_messy[:,1])"
   ]
  },
  {
   "cell_type": "code",
   "execution_count": null,
   "metadata": {
    "scrolled": true
   },
   "outputs": [],
   "source": [
    "#load in straight lines data\n",
    "lines_df = pd.read_csv('straight_lines.csv')\n",
    "lines_x=lines_df.iloc[:,0]\n",
    "lines_y=lines_df.iloc[:,1]\n",
    "lines=np.column_stack((lines_x,lines_y))\n",
    "\n",
    "#load in Jain's swirly data\n",
    "jain_df = pd.read_csv('jains_toy.csv')\n",
    "jain_x=jain_df.iloc[:,0]\n",
    "jain_y=jain_df.iloc[:,1]\n",
    "jain=np.column_stack((jain_x,jain_y))\n",
    "\n",
    "#load in Zahn's compound data\n",
    "compound_df = pd.read_csv('compound.csv')\n",
    "compound_x=compound_df.iloc[:,0]\n",
    "compound_y=compound_df.iloc[:,1]\n",
    "compound=np.column_stack((compound_x,compound_y))\n",
    "\n",
    "#load in spirals\n",
    "spiral_df = pd.read_csv('spirals.csv')\n",
    "spiral_x=spiral_df.iloc[:,0]\n",
    "spiral_y=spiral_df.iloc[:,1]\n",
    "spiral=np.column_stack((spiral_x,spiral_y))\n",
    "\n",
    "\n",
    "\n",
    "#plot\n",
    "plt.figure(figsize=(17,8))\n",
    "plt.subplot(221, title='Straight lines')\n",
    "plt.scatter(lines[:,0], lines[:,1])\n",
    "plt.subplot(222, title='Jain Toy Data')\n",
    "plt.scatter(jain[:,0], jain[:,1])\n",
    "plt.subplot(223, title='Compound Data')\n",
    "plt.scatter(compound[:,0], compound[:,1])\n",
    "plt.subplot(224, title='Spirals')\n",
    "plt.scatter(spiral[:,0], spiral[:,1])"
   ]
  },
  {
   "cell_type": "code",
   "execution_count": null,
   "metadata": {},
   "outputs": [],
   "source": [
    "import scipy.cluster.hierarchy as sch\n",
    "from sklearn.cluster import AgglomerativeClustering as AC\n"
   ]
  },
  {
   "cell_type": "code",
   "execution_count": null,
   "metadata": {},
   "outputs": [],
   "source": [
    "plt.figure(figsize=(10,7))\n",
    "plt.title(\"Neat Dendrograms\")\n",
    "dend = sch.dendrogram(sch.linkage(x_neat,method='complete')) #try with different linkage methods\n"
   ]
  },
  {
   "cell_type": "code",
   "execution_count": null,
   "metadata": {},
   "outputs": [],
   "source": [
    "plt.figure(figsize=(10,7))\n",
    "plt.title(\"Messy Dendrograms\")\n",
    "dend = sch.dendrogram(sch.linkage(x_messy,method='complete')) #try with different linkage methods"
   ]
  },
  {
   "cell_type": "code",
   "execution_count": null,
   "metadata": {},
   "outputs": [],
   "source": [
    "neat_cluster = AC(n_clusters=3,affinity='euclidean',linkage='complete') #try with different affinities ie euclidean, cosine, manhattan\n",
    "neat_cluster.fit_predict(x_neat) \n",
    "\n",
    "messy_cluster = AC(n_clusters=3,affinity='euclidean',linkage='complete') #try with different linkage metrics ie single, complete, average, ward\n",
    "messy_cluster.fit_predict(x_messy) \n",
    "\n",
    "plt.figure(figsize=(10,7))\n",
    "plt.subplot(121,title='Neat clusters hierarchical clustering')\n",
    "plt.scatter(x_neat[:,0],x_neat[:,1],c=neat_cluster.labels_,cmap='rainbow')\n",
    "plt.subplot(122,title='Messy clusters hierarchical clustering')\n",
    "plt.scatter(x_messy[:,0],x_messy[:,1],c=messy_cluster.labels_,cmap='rainbow')"
   ]
  },
  {
   "cell_type": "code",
   "execution_count": null,
   "metadata": {},
   "outputs": [],
   "source": [
    "plt.figure(figsize=(17,8))\n",
    "plt.subplot(221,title=\"line Dendrograms\")\n",
    "dend = sch.dendrogram(sch.linkage(lines,method='single')) #why do I prefer single here?\n",
    "plt.subplot(222,title='Jain Dendrograms')\n",
    "dend = sch.dendrogram(sch.linkage(jain,method='complete'))\n",
    "plt.subplot(223,title='Compound dendrograms')\n",
    "dend = sch.dendrogram(sch.linkage(compound,method='complete'))\n",
    "plt.subplot(224,title='Spiral dendrograms')\n",
    "dend = sch.dendrogram(sch.linkage(spiral,method='complete')) #how many clusters do we expect here??"
   ]
  },
  {
   "cell_type": "code",
   "execution_count": null,
   "metadata": {},
   "outputs": [],
   "source": [
    "lines_cluster = AC(n_clusters=2,affinity='euclidean',linkage='single') \n",
    "lines_cluster.fit_predict(lines) \n",
    "\n",
    "jain_cluster = AC(n_clusters=2,affinity='euclidean',linkage='complete') \n",
    "jain_cluster.fit_predict(jain)\n",
    "\n",
    "compound_cluster = AC(n_clusters=2,affinity='euclidean',linkage='complete') \n",
    "compound_cluster.fit_predict(compound) \n",
    "\n",
    "spiral_cluster = AC(n_clusters=3,affinity='euclidean',linkage='single') \n",
    "spiral_cluster.fit_predict(spiral)\n",
    "\n",
    "\n",
    "\n",
    "plt.figure(figsize=(10,7))\n",
    "plt.subplot(221,title='lines clusters hierarchical clustering')\n",
    "plt.scatter(lines[:,0],lines[:,1],c=lines_cluster.labels_,cmap='rainbow')\n",
    "plt.subplot(222,title='Jain clusters hierarchical clustering')\n",
    "plt.scatter(jain[:,0],jain[:,1],c=jain_cluster.labels_,cmap='rainbow')\n",
    "plt.subplot(223,title='Compound clusters hierarchical clustering')\n",
    "plt.scatter(compound[:,0],compound[:,1],c=compound_cluster.labels_,cmap='rainbow')\n",
    "plt.subplot(224,title='Spiral clusters hierarchical clustering')\n",
    "plt.scatter(spiral[:,0],spiral[:,1],c=spiral_cluster.labels_,cmap='rainbow')"
   ]
  },
  {
   "cell_type": "code",
   "execution_count": null,
   "metadata": {},
   "outputs": [],
   "source": []
  }
 ],
 "metadata": {
  "kernelspec": {
   "display_name": "Python 3",
   "language": "python",
   "name": "python3"
  },
  "language_info": {
   "codemirror_mode": {
    "name": "ipython",
    "version": 3
   },
   "file_extension": ".py",
   "mimetype": "text/x-python",
   "name": "python",
   "nbconvert_exporter": "python",
   "pygments_lexer": "ipython3",
   "version": "3.7.1"
  }
 },
 "nbformat": 4,
 "nbformat_minor": 2
}
